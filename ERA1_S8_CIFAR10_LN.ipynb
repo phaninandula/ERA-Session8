{
  "nbformat": 4,
  "nbformat_minor": 0,
  "metadata": {
    "kernelspec": {
      "name": "python3",
      "display_name": "Python 3"
    },
    "language_info": {
      "codemirror_mode": {
        "name": "ipython",
        "version": 3
      },
      "file_extension": ".py",
      "mimetype": "text/x-python",
      "name": "python",
      "nbconvert_exporter": "python",
      "pygments_lexer": "ipython3",
      "version": "3.6.6"
    },
    "colab": {
      "provenance": []
    },
    "accelerator": "GPU",
    "gpuClass": "standard"
  },
  "cells": [
    {
      "cell_type": "markdown",
      "metadata": {
        "id": "_cj433rtpoCn"
      },
      "source": [
        "## Loading train and test data with transforms and loader functions\n",
        "\n"
      ]
    },
    {
      "cell_type": "code",
      "source": [
        "from google.colab import drive\n",
        "drive.mount('/content/drive')\n",
        "\n"
      ],
      "metadata": {
        "id": "8IrdnkiG8HA4",
        "outputId": "b160e74d-1846-42b0-d035-ce99743cde3b",
        "colab": {
          "base_uri": "https://localhost:8080/"
        }
      },
      "execution_count": 1,
      "outputs": [
        {
          "output_type": "stream",
          "name": "stdout",
          "text": [
            "Drive already mounted at /content/drive; to attempt to forcibly remount, call drive.mount(\"/content/drive\", force_remount=True).\n"
          ]
        }
      ]
    },
    {
      "cell_type": "code",
      "source": [
        "!ls"
      ],
      "metadata": {
        "id": "XuKGk6sG8jYw",
        "outputId": "cf7d327d-286a-4a22-9928-06878ba3c463",
        "colab": {
          "base_uri": "https://localhost:8080/"
        }
      },
      "execution_count": 2,
      "outputs": [
        {
          "output_type": "stream",
          "name": "stdout",
          "text": [
            "data  drive  evaluate.py  main.py  model.py  __pycache__  sample_data  utils.py\n"
          ]
        }
      ]
    },
    {
      "cell_type": "code",
      "source": [
        "import torch\n",
        "import torchvision\n",
        "import torchvision.transforms as transforms\n",
        "\n",
        "transform = transforms.Compose(\n",
        "    [transforms.ToTensor(),\n",
        "     transforms.Normalize((0.5, 0.5, 0.5), (0.5, 0.5, 0.5))])\n",
        "\n",
        "batch_size = 128\n",
        "\n",
        "trainset = torchvision.datasets.CIFAR10(root='./data', train=True,\n",
        "                                        download=True, transform=transform)\n",
        "trainloader = torch.utils.data.DataLoader(trainset, batch_size=batch_size,\n",
        "                                          shuffle=True, num_workers=2)\n",
        "\n",
        "testset = torchvision.datasets.CIFAR10(root='./data', train=False,\n",
        "                                       download=True, transform=transform)\n",
        "testloader = torch.utils.data.DataLoader(testset, batch_size=batch_size,\n",
        "                                         shuffle=False, num_workers=2)\n",
        "\n",
        "classes = ('plane', 'car', 'bird', 'cat',\n",
        "           'deer', 'dog', 'frog', 'horse', 'ship', 'truck')\n"
      ],
      "metadata": {
        "colab": {
          "base_uri": "https://localhost:8080/"
        },
        "id": "LFHzyrw7zAaZ",
        "outputId": "ee8c3d90-7d8c-489b-f40a-06a3b8f91124"
      },
      "execution_count": 3,
      "outputs": [
        {
          "output_type": "stream",
          "name": "stdout",
          "text": [
            "Files already downloaded and verified\n",
            "Files already downloaded and verified\n"
          ]
        }
      ]
    },
    {
      "cell_type": "markdown",
      "source": [
        "### Plotting sample images"
      ],
      "metadata": {
        "id": "zAtKdwgkIj8o"
      }
    },
    {
      "cell_type": "markdown",
      "source": [
        "## The Model"
      ],
      "metadata": {
        "id": "FzOmtVmEIGKB"
      }
    },
    {
      "cell_type": "code",
      "metadata": {
        "id": "0jjLwLLQpoCr",
        "colab": {
          "base_uri": "https://localhost:8080/"
        },
        "outputId": "71fb1d06-b6f5-4560-bab7-99d8c927af22"
      },
      "source": [
        "from model import *\n",
        "\n",
        "# Loading Custom Model\n",
        "net = CIFAR10Net(norm_method='LN')\n",
        "\n",
        "# Using cuda if available\n",
        "use_cuda = torch.cuda.is_available()\n",
        "device = torch.device(\"cuda\" if use_cuda else \"cpu\")\n",
        "print(device)\n",
        "\n",
        "# Sending network to device\n",
        "net = net.to(device)"
      ],
      "execution_count": 8,
      "outputs": [
        {
          "output_type": "stream",
          "name": "stdout",
          "text": [
            "cuda\n"
          ]
        }
      ]
    },
    {
      "cell_type": "markdown",
      "metadata": {
        "id": "Wdw2NNCUpoCu"
      },
      "source": [
        "## Model Summary\n",
        "\n"
      ]
    },
    {
      "cell_type": "code",
      "source": [
        "!pip install torchsummary\n",
        "from torchsummary import summary\n",
        "\n",
        "# Model Summary\n",
        "summary(net, input_size=(3, 32, 32))"
      ],
      "metadata": {
        "colab": {
          "base_uri": "https://localhost:8080/"
        },
        "id": "tgI3YL4lI2nz",
        "outputId": "4464fbe4-2b27-4193-eeae-2b041051f719"
      },
      "execution_count": 9,
      "outputs": [
        {
          "output_type": "stream",
          "name": "stdout",
          "text": [
            "Looking in indexes: https://pypi.org/simple, https://us-python.pkg.dev/colab-wheels/public/simple/\n",
            "Requirement already satisfied: torchsummary in /usr/local/lib/python3.10/dist-packages (1.5.1)\n",
            "----------------------------------------------------------------\n",
            "        Layer (type)               Output Shape         Param #\n",
            "================================================================\n",
            "            Conv2d-1            [-1, 4, 32, 32]             108\n",
            "              ReLU-2            [-1, 4, 32, 32]               0\n",
            "         GroupNorm-3            [-1, 4, 32, 32]               8\n",
            "           Dropout-4            [-1, 4, 32, 32]               0\n",
            "            Conv2d-5            [-1, 8, 32, 32]             288\n",
            "              ReLU-6            [-1, 8, 32, 32]               0\n",
            "         GroupNorm-7            [-1, 8, 32, 32]              16\n",
            "           Dropout-8            [-1, 8, 32, 32]               0\n",
            "            Conv2d-9           [-1, 16, 32, 32]             128\n",
            "             ReLU-10           [-1, 16, 32, 32]               0\n",
            "        GroupNorm-11           [-1, 16, 32, 32]              32\n",
            "          Dropout-12           [-1, 16, 32, 32]               0\n",
            "        MaxPool2d-13           [-1, 16, 16, 16]               0\n",
            "           Conv2d-14           [-1, 20, 16, 16]           2,880\n",
            "             ReLU-15           [-1, 20, 16, 16]               0\n",
            "        GroupNorm-16           [-1, 20, 16, 16]              40\n",
            "          Dropout-17           [-1, 20, 16, 16]               0\n",
            "           Conv2d-18           [-1, 24, 16, 16]           4,320\n",
            "             ReLU-19           [-1, 24, 16, 16]               0\n",
            "        GroupNorm-20           [-1, 24, 16, 16]              48\n",
            "          Dropout-21           [-1, 24, 16, 16]               0\n",
            "           Conv2d-22           [-1, 28, 14, 14]           6,048\n",
            "             ReLU-23           [-1, 28, 14, 14]               0\n",
            "        GroupNorm-24           [-1, 28, 14, 14]              56\n",
            "          Dropout-25           [-1, 28, 14, 14]               0\n",
            "           Conv2d-26           [-1, 32, 14, 14]             896\n",
            "             ReLU-27           [-1, 32, 14, 14]               0\n",
            "        GroupNorm-28           [-1, 32, 14, 14]              64\n",
            "          Dropout-29           [-1, 32, 14, 14]               0\n",
            "        MaxPool2d-30             [-1, 32, 7, 7]               0\n",
            "           Conv2d-31             [-1, 36, 7, 7]          10,368\n",
            "             ReLU-32             [-1, 36, 7, 7]               0\n",
            "        GroupNorm-33             [-1, 36, 7, 7]              72\n",
            "          Dropout-34             [-1, 36, 7, 7]               0\n",
            "           Conv2d-35             [-1, 40, 7, 7]          12,960\n",
            "             ReLU-36             [-1, 40, 7, 7]               0\n",
            "        GroupNorm-37             [-1, 40, 7, 7]              80\n",
            "          Dropout-38             [-1, 40, 7, 7]               0\n",
            "           Conv2d-39             [-1, 16, 5, 5]           5,760\n",
            "             ReLU-40             [-1, 16, 5, 5]               0\n",
            "        GroupNorm-41             [-1, 16, 5, 5]              32\n",
            "          Dropout-42             [-1, 16, 5, 5]               0\n",
            "        AvgPool2d-43             [-1, 16, 1, 1]               0\n",
            "           Conv2d-44             [-1, 10, 1, 1]             160\n",
            "             ReLU-45             [-1, 10, 1, 1]               0\n",
            "================================================================\n",
            "Total params: 44,364\n",
            "Trainable params: 44,364\n",
            "Non-trainable params: 0\n",
            "----------------------------------------------------------------\n",
            "Input size (MB): 0.01\n",
            "Forward/backward pass size (MB): 1.75\n",
            "Params size (MB): 0.17\n",
            "Estimated Total Size (MB): 1.93\n",
            "----------------------------------------------------------------\n"
          ]
        }
      ]
    },
    {
      "cell_type": "markdown",
      "source": [
        "## Define a Loss function and optimizer"
      ],
      "metadata": {
        "id": "cXhwE0ozKiVy"
      }
    },
    {
      "cell_type": "code",
      "source": [
        "import torch.optim as optim\n",
        "import torch.nn as nn\n",
        "from torch.optim.lr_scheduler import StepLR\n",
        "\n",
        "criterion = nn.CrossEntropyLoss()\n",
        "optimizer = optim.SGD(net.parameters(), lr=0.02, momentum=0.9)\n",
        "scheduler = StepLR(optimizer, step_size=6, gamma=0.1)"
      ],
      "metadata": {
        "id": "15KdCYhCKj7S"
      },
      "execution_count": 10,
      "outputs": []
    },
    {
      "cell_type": "markdown",
      "source": [],
      "metadata": {
        "id": "z4p0B0y080Y6"
      }
    },
    {
      "cell_type": "markdown",
      "source": [
        "## Training and Testing"
      ],
      "metadata": {
        "id": "COE0sK1dLxGm"
      }
    },
    {
      "cell_type": "code",
      "source": [
        "# Load train and test model\n",
        "from main import *\n",
        "\n",
        "train = train()\n",
        "test = test()\n",
        "\n",
        "EPOCHS= 20\n",
        "\n",
        "for epoch in range(EPOCHS):  # loop over the dataset multiple times\n",
        "\n",
        "    train.execute(net, device, trainloader, optimizer, criterion, epoch)\n",
        "    scheduler.step()\n",
        "    test.execute(net, device, testloader, criterion)\n",
        "\n",
        "print('Finished Training')"
      ],
      "metadata": {
        "colab": {
          "base_uri": "https://localhost:8080/"
        },
        "id": "O8NbnhS_TDly",
        "outputId": "9835e2be-32c0-4213-fcae-0432d3ccde36"
      },
      "execution_count": 11,
      "outputs": [
        {
          "output_type": "stream",
          "name": "stderr",
          "text": [
            "Epoch: 0,Loss=1.34 Batch_id=390 Accuracy=36.33: 100%|██████████| 391/391 [00:18<00:00, 20.66it/s]\n"
          ]
        },
        {
          "output_type": "stream",
          "name": "stdout",
          "text": [
            "Test set: Average loss: 0.0115, Accuracy: 4714/10000 (47.14%)\n",
            "\n"
          ]
        },
        {
          "output_type": "stream",
          "name": "stderr",
          "text": [
            "Epoch: 1,Loss=1.23 Batch_id=390 Accuracy=51.87: 100%|██████████| 391/391 [00:19<00:00, 20.57it/s]\n"
          ]
        },
        {
          "output_type": "stream",
          "name": "stdout",
          "text": [
            "Test set: Average loss: 0.0094, Accuracy: 5781/10000 (57.81%)\n",
            "\n"
          ]
        },
        {
          "output_type": "stream",
          "name": "stderr",
          "text": [
            "Epoch: 2,Loss=1.21 Batch_id=390 Accuracy=61.27: 100%|██████████| 391/391 [00:17<00:00, 21.86it/s]\n"
          ]
        },
        {
          "output_type": "stream",
          "name": "stdout",
          "text": [
            "Test set: Average loss: 0.0081, Accuracy: 6353/10000 (63.53%)\n",
            "\n"
          ]
        },
        {
          "output_type": "stream",
          "name": "stderr",
          "text": [
            "Epoch: 3,Loss=0.94 Batch_id=390 Accuracy=67.08: 100%|██████████| 391/391 [00:18<00:00, 20.67it/s]\n"
          ]
        },
        {
          "output_type": "stream",
          "name": "stdout",
          "text": [
            "Test set: Average loss: 0.0070, Accuracy: 6863/10000 (68.63%)\n",
            "\n"
          ]
        },
        {
          "output_type": "stream",
          "name": "stderr",
          "text": [
            "Epoch: 4,Loss=0.65 Batch_id=390 Accuracy=71.02: 100%|██████████| 391/391 [00:18<00:00, 21.66it/s]\n"
          ]
        },
        {
          "output_type": "stream",
          "name": "stdout",
          "text": [
            "Test set: Average loss: 0.0068, Accuracy: 7008/10000 (70.08%)\n",
            "\n"
          ]
        },
        {
          "output_type": "stream",
          "name": "stderr",
          "text": [
            "Epoch: 5,Loss=0.69 Batch_id=390 Accuracy=73.21: 100%|██████████| 391/391 [00:19<00:00, 20.43it/s]\n"
          ]
        },
        {
          "output_type": "stream",
          "name": "stdout",
          "text": [
            "Test set: Average loss: 0.0063, Accuracy: 7193/10000 (71.93%)\n",
            "\n"
          ]
        },
        {
          "output_type": "stream",
          "name": "stderr",
          "text": [
            "Epoch: 6,Loss=0.62 Batch_id=390 Accuracy=78.45: 100%|██████████| 391/391 [00:18<00:00, 21.70it/s]\n"
          ]
        },
        {
          "output_type": "stream",
          "name": "stdout",
          "text": [
            "Test set: Average loss: 0.0055, Accuracy: 7592/10000 (75.92%)\n",
            "\n"
          ]
        },
        {
          "output_type": "stream",
          "name": "stderr",
          "text": [
            "Epoch: 7,Loss=0.54 Batch_id=390 Accuracy=79.41: 100%|██████████| 391/391 [00:24<00:00, 15.74it/s]\n"
          ]
        },
        {
          "output_type": "stream",
          "name": "stdout",
          "text": [
            "Test set: Average loss: 0.0055, Accuracy: 7601/10000 (76.01%)\n",
            "\n"
          ]
        },
        {
          "output_type": "stream",
          "name": "stderr",
          "text": [
            "Epoch: 8,Loss=0.58 Batch_id=390 Accuracy=79.94: 100%|██████████| 391/391 [00:18<00:00, 20.88it/s]\n"
          ]
        },
        {
          "output_type": "stream",
          "name": "stdout",
          "text": [
            "Test set: Average loss: 0.0055, Accuracy: 7649/10000 (76.49%)\n",
            "\n"
          ]
        },
        {
          "output_type": "stream",
          "name": "stderr",
          "text": [
            "Epoch: 9,Loss=0.53 Batch_id=390 Accuracy=80.26: 100%|██████████| 391/391 [00:17<00:00, 21.94it/s]\n"
          ]
        },
        {
          "output_type": "stream",
          "name": "stdout",
          "text": [
            "Test set: Average loss: 0.0055, Accuracy: 7647/10000 (76.47%)\n",
            "\n"
          ]
        },
        {
          "output_type": "stream",
          "name": "stderr",
          "text": [
            "Epoch: 10,Loss=0.64 Batch_id=390 Accuracy=80.68: 100%|██████████| 391/391 [00:18<00:00, 21.52it/s]\n"
          ]
        },
        {
          "output_type": "stream",
          "name": "stdout",
          "text": [
            "Test set: Average loss: 0.0054, Accuracy: 7680/10000 (76.80%)\n",
            "\n"
          ]
        },
        {
          "output_type": "stream",
          "name": "stderr",
          "text": [
            "Epoch: 11,Loss=0.47 Batch_id=390 Accuracy=80.98: 100%|██████████| 391/391 [00:17<00:00, 22.28it/s]\n"
          ]
        },
        {
          "output_type": "stream",
          "name": "stdout",
          "text": [
            "Test set: Average loss: 0.0054, Accuracy: 7663/10000 (76.63%)\n",
            "\n"
          ]
        },
        {
          "output_type": "stream",
          "name": "stderr",
          "text": [
            "Epoch: 12,Loss=0.48 Batch_id=390 Accuracy=81.94: 100%|██████████| 391/391 [00:18<00:00, 21.01it/s]\n"
          ]
        },
        {
          "output_type": "stream",
          "name": "stdout",
          "text": [
            "Test set: Average loss: 0.0054, Accuracy: 7687/10000 (76.87%)\n",
            "\n"
          ]
        },
        {
          "output_type": "stream",
          "name": "stderr",
          "text": [
            "Epoch: 13,Loss=0.50 Batch_id=390 Accuracy=82.01: 100%|██████████| 391/391 [00:17<00:00, 22.22it/s]\n"
          ]
        },
        {
          "output_type": "stream",
          "name": "stdout",
          "text": [
            "Test set: Average loss: 0.0054, Accuracy: 7694/10000 (76.94%)\n",
            "\n"
          ]
        },
        {
          "output_type": "stream",
          "name": "stderr",
          "text": [
            "Epoch: 14,Loss=0.50 Batch_id=390 Accuracy=82.12: 100%|██████████| 391/391 [00:18<00:00, 20.73it/s]\n"
          ]
        },
        {
          "output_type": "stream",
          "name": "stdout",
          "text": [
            "Test set: Average loss: 0.0054, Accuracy: 7701/10000 (77.01%)\n",
            "\n"
          ]
        },
        {
          "output_type": "stream",
          "name": "stderr",
          "text": [
            "Epoch: 15,Loss=0.39 Batch_id=390 Accuracy=82.00: 100%|██████████| 391/391 [00:17<00:00, 22.21it/s]\n"
          ]
        },
        {
          "output_type": "stream",
          "name": "stdout",
          "text": [
            "Test set: Average loss: 0.0054, Accuracy: 7690/10000 (76.90%)\n",
            "\n"
          ]
        },
        {
          "output_type": "stream",
          "name": "stderr",
          "text": [
            "Epoch: 16,Loss=0.44 Batch_id=390 Accuracy=82.23: 100%|██████████| 391/391 [00:17<00:00, 21.76it/s]\n"
          ]
        },
        {
          "output_type": "stream",
          "name": "stdout",
          "text": [
            "Test set: Average loss: 0.0054, Accuracy: 7697/10000 (76.97%)\n",
            "\n"
          ]
        },
        {
          "output_type": "stream",
          "name": "stderr",
          "text": [
            "Epoch: 17,Loss=0.46 Batch_id=390 Accuracy=82.07: 100%|██████████| 391/391 [00:17<00:00, 21.95it/s]\n"
          ]
        },
        {
          "output_type": "stream",
          "name": "stdout",
          "text": [
            "Test set: Average loss: 0.0054, Accuracy: 7695/10000 (76.95%)\n",
            "\n"
          ]
        },
        {
          "output_type": "stream",
          "name": "stderr",
          "text": [
            "Epoch: 18,Loss=0.43 Batch_id=390 Accuracy=82.21: 100%|██████████| 391/391 [00:17<00:00, 21.98it/s]\n"
          ]
        },
        {
          "output_type": "stream",
          "name": "stdout",
          "text": [
            "Test set: Average loss: 0.0054, Accuracy: 7697/10000 (76.97%)\n",
            "\n"
          ]
        },
        {
          "output_type": "stream",
          "name": "stderr",
          "text": [
            "Epoch: 19,Loss=0.67 Batch_id=390 Accuracy=82.22: 100%|██████████| 391/391 [00:17<00:00, 22.46it/s]\n"
          ]
        },
        {
          "output_type": "stream",
          "name": "stdout",
          "text": [
            "Test set: Average loss: 0.0054, Accuracy: 7704/10000 (77.04%)\n",
            "\n",
            "Finished Training\n"
          ]
        }
      ]
    },
    {
      "cell_type": "markdown",
      "source": [
        "## Evaluating Train Accuracy"
      ],
      "metadata": {
        "id": "FMO4iNX-SycM"
      }
    },
    {
      "cell_type": "code",
      "source": [
        "from evaluate import *\n",
        "Accuracy(net, trainloader, device, name='train')"
      ],
      "metadata": {
        "colab": {
          "base_uri": "https://localhost:8080/"
        },
        "id": "F-3lcDR3Szzb",
        "outputId": "939ded26-2d97-4c32-bb64-4bd5ac7617eb"
      },
      "execution_count": 14,
      "outputs": [
        {
          "output_type": "stream",
          "name": "stdout",
          "text": [
            "Accuracy of the network on the  train images: 83.118 %%\n"
          ]
        }
      ]
    },
    {
      "cell_type": "markdown",
      "source": [
        "## Evaluating Test Accuracy"
      ],
      "metadata": {
        "id": "qs6vr8wXW9o7"
      }
    },
    {
      "cell_type": "code",
      "source": [
        "Accuracy(net, testloader, device, name='test')"
      ],
      "metadata": {
        "colab": {
          "base_uri": "https://localhost:8080/"
        },
        "id": "hyqjsMYBW7ax",
        "outputId": "79ccddb7-87af-4a5e-b2b1-b05c831edb74"
      },
      "execution_count": 15,
      "outputs": [
        {
          "output_type": "stream",
          "name": "stdout",
          "text": [
            "Accuracy of the network on the  test images: 77.04 %%\n"
          ]
        }
      ]
    },
    {
      "cell_type": "code",
      "source": [],
      "metadata": {
        "id": "FO_ZxLqmJn3T"
      },
      "execution_count": 16,
      "outputs": []
    }
  ]
}