{
  "nbformat": 4,
  "nbformat_minor": 0,
  "metadata": {
    "kernelspec": {
      "name": "python3",
      "display_name": "Python 3"
    },
    "language_info": {
      "codemirror_mode": {
        "name": "ipython",
        "version": 3
      },
      "file_extension": ".py",
      "mimetype": "text/x-python",
      "name": "python",
      "nbconvert_exporter": "python",
      "pygments_lexer": "ipython3",
      "version": "3.6.6"
    },
    "colab": {
      "provenance": []
    },
    "accelerator": "GPU",
    "gpuClass": "standard"
  },
  "cells": [
    {
      "cell_type": "markdown",
      "metadata": {
        "id": "_cj433rtpoCn"
      },
      "source": [
        "## Loading train and test data with transforms and loader functions\n",
        "\n"
      ]
    },
    {
      "cell_type": "code",
      "source": [
        "from google.colab import drive\n",
        "drive.mount('/content/drive')\n",
        "\n"
      ],
      "metadata": {
        "id": "8IrdnkiG8HA4",
        "outputId": "74d95953-b6cf-4797-9b32-df03c783b520",
        "colab": {
          "base_uri": "https://localhost:8080/"
        }
      },
      "execution_count": 1,
      "outputs": [
        {
          "output_type": "stream",
          "name": "stdout",
          "text": [
            "Drive already mounted at /content/drive; to attempt to forcibly remount, call drive.mount(\"/content/drive\", force_remount=True).\n"
          ]
        }
      ]
    },
    {
      "cell_type": "code",
      "source": [
        "!ls"
      ],
      "metadata": {
        "id": "XuKGk6sG8jYw",
        "outputId": "1f203a28-d362-4f4e-fa53-df228e00139a",
        "colab": {
          "base_uri": "https://localhost:8080/"
        }
      },
      "execution_count": 2,
      "outputs": [
        {
          "output_type": "stream",
          "name": "stdout",
          "text": [
            "data  drive  evaluate.py  main.py  model.py  __pycache__  sample_data\n"
          ]
        }
      ]
    },
    {
      "cell_type": "code",
      "source": [
        "import torch\n",
        "import torchvision\n",
        "import torchvision.transforms as transforms\n",
        "\n",
        "transform = transforms.Compose(\n",
        "    [transforms.ToTensor(),\n",
        "     transforms.Normalize((0.5, 0.5, 0.5), (0.5, 0.5, 0.5))])\n",
        "\n",
        "batch_size = 128\n",
        "\n",
        "trainset = torchvision.datasets.CIFAR10(root='./data', train=True,\n",
        "                                        download=True, transform=transform)\n",
        "trainloader = torch.utils.data.DataLoader(trainset, batch_size=batch_size,\n",
        "                                          shuffle=True, num_workers=2)\n",
        "\n",
        "testset = torchvision.datasets.CIFAR10(root='./data', train=False,\n",
        "                                       download=True, transform=transform)\n",
        "testloader = torch.utils.data.DataLoader(testset, batch_size=batch_size,\n",
        "                                         shuffle=False, num_workers=2)\n",
        "\n",
        "classes = ('plane', 'car', 'bird', 'cat',\n",
        "           'deer', 'dog', 'frog', 'horse', 'ship', 'truck')\n"
      ],
      "metadata": {
        "colab": {
          "base_uri": "https://localhost:8080/"
        },
        "id": "LFHzyrw7zAaZ",
        "outputId": "c0335f96-6ab9-414a-b552-fe74516205df"
      },
      "execution_count": 3,
      "outputs": [
        {
          "output_type": "stream",
          "name": "stdout",
          "text": [
            "Files already downloaded and verified\n",
            "Files already downloaded and verified\n"
          ]
        }
      ]
    },
    {
      "cell_type": "markdown",
      "source": [
        "### Plotting sample images"
      ],
      "metadata": {
        "id": "zAtKdwgkIj8o"
      }
    },
    {
      "cell_type": "markdown",
      "source": [
        "## The Model"
      ],
      "metadata": {
        "id": "FzOmtVmEIGKB"
      }
    },
    {
      "cell_type": "code",
      "metadata": {
        "id": "0jjLwLLQpoCr",
        "colab": {
          "base_uri": "https://localhost:8080/"
        },
        "outputId": "7219547d-68c5-4ed0-e95d-96e2984d9a44"
      },
      "source": [
        "from model import *\n",
        "\n",
        "# Loading Custom Model\n",
        "net = CIFAR10Net(norm_method='BN')\n",
        "\n",
        "# Using cuda if available\n",
        "use_cuda = torch.cuda.is_available()\n",
        "device = torch.device(\"cuda\" if use_cuda else \"cpu\")\n",
        "print(device)\n",
        "\n",
        "# Sending network to device\n",
        "net = net.to(device)"
      ],
      "execution_count": 4,
      "outputs": [
        {
          "output_type": "stream",
          "name": "stdout",
          "text": [
            "cuda\n"
          ]
        }
      ]
    },
    {
      "cell_type": "markdown",
      "metadata": {
        "id": "Wdw2NNCUpoCu"
      },
      "source": [
        "## Model Summary\n",
        "\n"
      ]
    },
    {
      "cell_type": "code",
      "source": [
        "!pip install torchsummary\n",
        "from torchsummary import summary\n",
        "\n",
        "# Model Summary\n",
        "summary(net, input_size=(3, 32, 32))"
      ],
      "metadata": {
        "colab": {
          "base_uri": "https://localhost:8080/"
        },
        "id": "tgI3YL4lI2nz",
        "outputId": "8f7e4bc7-8f5f-446d-bc70-05ef24b7df1c"
      },
      "execution_count": 5,
      "outputs": [
        {
          "output_type": "stream",
          "name": "stdout",
          "text": [
            "Looking in indexes: https://pypi.org/simple, https://us-python.pkg.dev/colab-wheels/public/simple/\n",
            "Requirement already satisfied: torchsummary in /usr/local/lib/python3.10/dist-packages (1.5.1)\n",
            "----------------------------------------------------------------\n",
            "        Layer (type)               Output Shape         Param #\n",
            "================================================================\n",
            "            Conv2d-1            [-1, 4, 32, 32]             108\n",
            "              ReLU-2            [-1, 4, 32, 32]               0\n",
            "       BatchNorm2d-3            [-1, 4, 32, 32]               8\n",
            "           Dropout-4            [-1, 4, 32, 32]               0\n",
            "            Conv2d-5            [-1, 8, 32, 32]             288\n",
            "              ReLU-6            [-1, 8, 32, 32]               0\n",
            "       BatchNorm2d-7            [-1, 8, 32, 32]              16\n",
            "           Dropout-8            [-1, 8, 32, 32]               0\n",
            "            Conv2d-9           [-1, 16, 32, 32]             128\n",
            "             ReLU-10           [-1, 16, 32, 32]               0\n",
            "      BatchNorm2d-11           [-1, 16, 32, 32]              32\n",
            "          Dropout-12           [-1, 16, 32, 32]               0\n",
            "        MaxPool2d-13           [-1, 16, 16, 16]               0\n",
            "           Conv2d-14           [-1, 20, 16, 16]           2,880\n",
            "             ReLU-15           [-1, 20, 16, 16]               0\n",
            "      BatchNorm2d-16           [-1, 20, 16, 16]              40\n",
            "          Dropout-17           [-1, 20, 16, 16]               0\n",
            "           Conv2d-18           [-1, 24, 16, 16]           4,320\n",
            "             ReLU-19           [-1, 24, 16, 16]               0\n",
            "      BatchNorm2d-20           [-1, 24, 16, 16]              48\n",
            "          Dropout-21           [-1, 24, 16, 16]               0\n",
            "           Conv2d-22           [-1, 28, 14, 14]           6,048\n",
            "             ReLU-23           [-1, 28, 14, 14]               0\n",
            "      BatchNorm2d-24           [-1, 28, 14, 14]              56\n",
            "          Dropout-25           [-1, 28, 14, 14]               0\n",
            "           Conv2d-26           [-1, 32, 14, 14]             896\n",
            "             ReLU-27           [-1, 32, 14, 14]               0\n",
            "      BatchNorm2d-28           [-1, 32, 14, 14]              64\n",
            "          Dropout-29           [-1, 32, 14, 14]               0\n",
            "        MaxPool2d-30             [-1, 32, 7, 7]               0\n",
            "           Conv2d-31             [-1, 36, 7, 7]          10,368\n",
            "             ReLU-32             [-1, 36, 7, 7]               0\n",
            "      BatchNorm2d-33             [-1, 36, 7, 7]              72\n",
            "          Dropout-34             [-1, 36, 7, 7]               0\n",
            "           Conv2d-35             [-1, 40, 7, 7]          12,960\n",
            "             ReLU-36             [-1, 40, 7, 7]               0\n",
            "      BatchNorm2d-37             [-1, 40, 7, 7]              80\n",
            "          Dropout-38             [-1, 40, 7, 7]               0\n",
            "           Conv2d-39             [-1, 16, 5, 5]           5,760\n",
            "             ReLU-40             [-1, 16, 5, 5]               0\n",
            "      BatchNorm2d-41             [-1, 16, 5, 5]              32\n",
            "          Dropout-42             [-1, 16, 5, 5]               0\n",
            "        AvgPool2d-43             [-1, 16, 1, 1]               0\n",
            "           Conv2d-44             [-1, 10, 1, 1]             160\n",
            "             ReLU-45             [-1, 10, 1, 1]               0\n",
            "================================================================\n",
            "Total params: 44,364\n",
            "Trainable params: 44,364\n",
            "Non-trainable params: 0\n",
            "----------------------------------------------------------------\n",
            "Input size (MB): 0.01\n",
            "Forward/backward pass size (MB): 1.75\n",
            "Params size (MB): 0.17\n",
            "Estimated Total Size (MB): 1.93\n",
            "----------------------------------------------------------------\n"
          ]
        }
      ]
    },
    {
      "cell_type": "markdown",
      "source": [
        "## Define a Loss function and optimizer"
      ],
      "metadata": {
        "id": "cXhwE0ozKiVy"
      }
    },
    {
      "cell_type": "code",
      "source": [
        "import torch.optim as optim\n",
        "import torch.nn as nn\n",
        "from torch.optim.lr_scheduler import StepLR\n",
        "\n",
        "criterion = nn.CrossEntropyLoss()\n",
        "optimizer = optim.SGD(net.parameters(), lr=0.02, momentum=0.9)\n",
        "scheduler = StepLR(optimizer, step_size=6, gamma=0.1)"
      ],
      "metadata": {
        "id": "15KdCYhCKj7S"
      },
      "execution_count": 6,
      "outputs": []
    },
    {
      "cell_type": "markdown",
      "source": [],
      "metadata": {
        "id": "z4p0B0y080Y6"
      }
    },
    {
      "cell_type": "markdown",
      "source": [
        "## Training and Testing"
      ],
      "metadata": {
        "id": "COE0sK1dLxGm"
      }
    },
    {
      "cell_type": "code",
      "source": [
        "# Load train and test model\n",
        "from main import *\n",
        "\n",
        "train = train()\n",
        "test = test()\n",
        "\n",
        "EPOCHS= 20\n",
        "\n",
        "for epoch in range(EPOCHS):  # loop over the dataset multiple times\n",
        "\n",
        "    train.execute(net, device, trainloader, optimizer, criterion, epoch)\n",
        "    scheduler.step()\n",
        "    test.execute(net, device, testloader, criterion)\n",
        "\n",
        "print('Finished Training')"
      ],
      "metadata": {
        "colab": {
          "base_uri": "https://localhost:8080/"
        },
        "id": "O8NbnhS_TDly",
        "outputId": "e5fc62ef-647c-4b52-da66-dd231ae04ab8"
      },
      "execution_count": 7,
      "outputs": [
        {
          "output_type": "stream",
          "name": "stderr",
          "text": [
            "Epoch: 0,Loss=1.19 Batch_id=390 Accuracy=45.97: 100%|██████████| 391/391 [00:22<00:00, 17.45it/s]\n"
          ]
        },
        {
          "output_type": "stream",
          "name": "stdout",
          "text": [
            "Test set: Average loss: 0.0095, Accuracy: 5697/10000 (56.97%)\n",
            "\n"
          ]
        },
        {
          "output_type": "stream",
          "name": "stderr",
          "text": [
            "Epoch: 1,Loss=0.97 Batch_id=390 Accuracy=62.13: 100%|██████████| 391/391 [00:19<00:00, 19.95it/s]\n"
          ]
        },
        {
          "output_type": "stream",
          "name": "stdout",
          "text": [
            "Test set: Average loss: 0.0081, Accuracy: 6442/10000 (64.42%)\n",
            "\n"
          ]
        },
        {
          "output_type": "stream",
          "name": "stderr",
          "text": [
            "Epoch: 2,Loss=0.96 Batch_id=390 Accuracy=68.58: 100%|██████████| 391/391 [00:17<00:00, 22.84it/s]\n"
          ]
        },
        {
          "output_type": "stream",
          "name": "stdout",
          "text": [
            "Test set: Average loss: 0.0069, Accuracy: 6969/10000 (69.69%)\n",
            "\n"
          ]
        },
        {
          "output_type": "stream",
          "name": "stderr",
          "text": [
            "Epoch: 3,Loss=0.72 Batch_id=390 Accuracy=72.30: 100%|██████████| 391/391 [00:18<00:00, 21.59it/s]\n"
          ]
        },
        {
          "output_type": "stream",
          "name": "stdout",
          "text": [
            "Test set: Average loss: 0.0066, Accuracy: 7118/10000 (71.18%)\n",
            "\n"
          ]
        },
        {
          "output_type": "stream",
          "name": "stderr",
          "text": [
            "Epoch: 4,Loss=0.55 Batch_id=390 Accuracy=74.33: 100%|██████████| 391/391 [00:18<00:00, 21.70it/s]\n"
          ]
        },
        {
          "output_type": "stream",
          "name": "stdout",
          "text": [
            "Test set: Average loss: 0.0063, Accuracy: 7223/10000 (72.23%)\n",
            "\n"
          ]
        },
        {
          "output_type": "stream",
          "name": "stderr",
          "text": [
            "Epoch: 5,Loss=0.62 Batch_id=390 Accuracy=76.25: 100%|██████████| 391/391 [00:18<00:00, 21.06it/s]\n"
          ]
        },
        {
          "output_type": "stream",
          "name": "stdout",
          "text": [
            "Test set: Average loss: 0.0060, Accuracy: 7384/10000 (73.84%)\n",
            "\n"
          ]
        },
        {
          "output_type": "stream",
          "name": "stderr",
          "text": [
            "Epoch: 6,Loss=0.47 Batch_id=390 Accuracy=80.50: 100%|██████████| 391/391 [00:17<00:00, 22.62it/s]\n"
          ]
        },
        {
          "output_type": "stream",
          "name": "stdout",
          "text": [
            "Test set: Average loss: 0.0053, Accuracy: 7684/10000 (76.84%)\n",
            "\n"
          ]
        },
        {
          "output_type": "stream",
          "name": "stderr",
          "text": [
            "Epoch: 7,Loss=0.38 Batch_id=390 Accuracy=81.59: 100%|██████████| 391/391 [00:17<00:00, 22.44it/s]\n"
          ]
        },
        {
          "output_type": "stream",
          "name": "stdout",
          "text": [
            "Test set: Average loss: 0.0053, Accuracy: 7682/10000 (76.82%)\n",
            "\n"
          ]
        },
        {
          "output_type": "stream",
          "name": "stderr",
          "text": [
            "Epoch: 8,Loss=0.52 Batch_id=390 Accuracy=81.70: 100%|██████████| 391/391 [00:18<00:00, 20.85it/s]\n"
          ]
        },
        {
          "output_type": "stream",
          "name": "stdout",
          "text": [
            "Test set: Average loss: 0.0052, Accuracy: 7736/10000 (77.36%)\n",
            "\n"
          ]
        },
        {
          "output_type": "stream",
          "name": "stderr",
          "text": [
            "Epoch: 9,Loss=0.43 Batch_id=390 Accuracy=82.26: 100%|██████████| 391/391 [00:17<00:00, 22.38it/s]\n"
          ]
        },
        {
          "output_type": "stream",
          "name": "stdout",
          "text": [
            "Test set: Average loss: 0.0052, Accuracy: 7713/10000 (77.13%)\n",
            "\n"
          ]
        },
        {
          "output_type": "stream",
          "name": "stderr",
          "text": [
            "Epoch: 10,Loss=0.51 Batch_id=390 Accuracy=82.45: 100%|██████████| 391/391 [00:17<00:00, 21.94it/s]\n"
          ]
        },
        {
          "output_type": "stream",
          "name": "stdout",
          "text": [
            "Test set: Average loss: 0.0053, Accuracy: 7711/10000 (77.11%)\n",
            "\n"
          ]
        },
        {
          "output_type": "stream",
          "name": "stderr",
          "text": [
            "Epoch: 11,Loss=0.70 Batch_id=390 Accuracy=82.77: 100%|██████████| 391/391 [00:17<00:00, 22.17it/s]\n"
          ]
        },
        {
          "output_type": "stream",
          "name": "stdout",
          "text": [
            "Test set: Average loss: 0.0053, Accuracy: 7729/10000 (77.29%)\n",
            "\n"
          ]
        },
        {
          "output_type": "stream",
          "name": "stderr",
          "text": [
            "Epoch: 12,Loss=0.54 Batch_id=390 Accuracy=83.35: 100%|██████████| 391/391 [00:18<00:00, 20.93it/s]\n"
          ]
        },
        {
          "output_type": "stream",
          "name": "stdout",
          "text": [
            "Test set: Average loss: 0.0052, Accuracy: 7762/10000 (77.62%)\n",
            "\n"
          ]
        },
        {
          "output_type": "stream",
          "name": "stderr",
          "text": [
            "Epoch: 13,Loss=0.51 Batch_id=390 Accuracy=83.53: 100%|██████████| 391/391 [00:17<00:00, 22.57it/s]\n"
          ]
        },
        {
          "output_type": "stream",
          "name": "stdout",
          "text": [
            "Test set: Average loss: 0.0052, Accuracy: 7757/10000 (77.57%)\n",
            "\n"
          ]
        },
        {
          "output_type": "stream",
          "name": "stderr",
          "text": [
            "Epoch: 14,Loss=0.61 Batch_id=390 Accuracy=83.68: 100%|██████████| 391/391 [00:20<00:00, 18.71it/s]\n"
          ]
        },
        {
          "output_type": "stream",
          "name": "stdout",
          "text": [
            "Test set: Average loss: 0.0052, Accuracy: 7749/10000 (77.49%)\n",
            "\n"
          ]
        },
        {
          "output_type": "stream",
          "name": "stderr",
          "text": [
            "Epoch: 15,Loss=0.46 Batch_id=390 Accuracy=83.73: 100%|██████████| 391/391 [00:17<00:00, 22.48it/s]\n"
          ]
        },
        {
          "output_type": "stream",
          "name": "stdout",
          "text": [
            "Test set: Average loss: 0.0052, Accuracy: 7746/10000 (77.46%)\n",
            "\n"
          ]
        },
        {
          "output_type": "stream",
          "name": "stderr",
          "text": [
            "Epoch: 16,Loss=0.45 Batch_id=390 Accuracy=83.60: 100%|██████████| 391/391 [00:18<00:00, 21.32it/s]\n"
          ]
        },
        {
          "output_type": "stream",
          "name": "stdout",
          "text": [
            "Test set: Average loss: 0.0052, Accuracy: 7762/10000 (77.62%)\n",
            "\n"
          ]
        },
        {
          "output_type": "stream",
          "name": "stderr",
          "text": [
            "Epoch: 17,Loss=0.48 Batch_id=390 Accuracy=83.68: 100%|██████████| 391/391 [00:17<00:00, 22.44it/s]\n"
          ]
        },
        {
          "output_type": "stream",
          "name": "stdout",
          "text": [
            "Test set: Average loss: 0.0052, Accuracy: 7760/10000 (77.60%)\n",
            "\n"
          ]
        },
        {
          "output_type": "stream",
          "name": "stderr",
          "text": [
            "Epoch: 18,Loss=0.41 Batch_id=390 Accuracy=83.96: 100%|██████████| 391/391 [00:17<00:00, 22.34it/s]\n"
          ]
        },
        {
          "output_type": "stream",
          "name": "stdout",
          "text": [
            "Test set: Average loss: 0.0052, Accuracy: 7757/10000 (77.57%)\n",
            "\n"
          ]
        },
        {
          "output_type": "stream",
          "name": "stderr",
          "text": [
            "Epoch: 19,Loss=0.39 Batch_id=390 Accuracy=83.94: 100%|██████████| 391/391 [00:17<00:00, 22.64it/s]\n"
          ]
        },
        {
          "output_type": "stream",
          "name": "stdout",
          "text": [
            "Test set: Average loss: 0.0052, Accuracy: 7744/10000 (77.44%)\n",
            "\n",
            "Finished Training\n"
          ]
        }
      ]
    },
    {
      "cell_type": "markdown",
      "source": [
        "## Evaluating Train Accuracy"
      ],
      "metadata": {
        "id": "FMO4iNX-SycM"
      }
    },
    {
      "cell_type": "code",
      "source": [
        "from evaluate import *\n",
        "accuracy(net, trainloader, device, name='train')"
      ],
      "metadata": {
        "colab": {
          "base_uri": "https://localhost:8080/"
        },
        "id": "F-3lcDR3Szzb",
        "outputId": "de177f19-0aa5-49e2-9c3e-0d39e6cc48c2"
      },
      "execution_count": 8,
      "outputs": [
        {
          "output_type": "stream",
          "name": "stdout",
          "text": [
            "Accuracy of the network on the  train images: 85.304 %%\n"
          ]
        }
      ]
    },
    {
      "cell_type": "markdown",
      "source": [
        "## Evaluating Test Accuracy"
      ],
      "metadata": {
        "id": "qs6vr8wXW9o7"
      }
    },
    {
      "cell_type": "code",
      "source": [
        "accuracy(net, testloader, device, name='test')"
      ],
      "metadata": {
        "colab": {
          "base_uri": "https://localhost:8080/"
        },
        "id": "hyqjsMYBW7ax",
        "outputId": "43d95eb7-0325-480a-bf0c-db8841a88cd3"
      },
      "execution_count": 9,
      "outputs": [
        {
          "output_type": "stream",
          "name": "stdout",
          "text": [
            "Accuracy of the network on the  test images: 77.44 %%\n"
          ]
        }
      ]
    },
    {
      "cell_type": "markdown",
      "source": [
        "## Evaluating test Accuracy over different classes"
      ],
      "metadata": {
        "id": "dGXeyR2zaT3l"
      }
    },
    {
      "cell_type": "code",
      "source": [
        "classes_accuracy(net, testloader,classes, device)"
      ],
      "metadata": {
        "colab": {
          "base_uri": "https://localhost:8080/"
        },
        "id": "P709SSnLaW7Z",
        "outputId": "d7a3b6b1-5b85-44f0-aa3f-2f3465c2e467"
      },
      "execution_count": 10,
      "outputs": [
        {
          "output_type": "stream",
          "name": "stdout",
          "text": [
            "Accuracy of plane : 79 %\n",
            "Accuracy of   car : 96 %\n",
            "Accuracy of  bird : 66 %\n",
            "Accuracy of   cat : 67 %\n",
            "Accuracy of  deer : 74 %\n",
            "Accuracy of   dog : 60 %\n",
            "Accuracy of  frog : 72 %\n",
            "Accuracy of horse : 76 %\n",
            "Accuracy of  ship : 84 %\n",
            "Accuracy of truck : 82 %\n"
          ]
        }
      ]
    },
